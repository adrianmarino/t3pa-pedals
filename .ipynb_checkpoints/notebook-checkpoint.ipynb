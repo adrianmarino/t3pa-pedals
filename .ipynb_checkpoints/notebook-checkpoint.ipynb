{
 "cells": [
  {
   "cell_type": "code",
   "execution_count": 27,
   "id": "ff491f17-982e-48f9-b20d-1ef1a9c0fb7c",
   "metadata": {},
   "outputs": [],
   "source": [
    "import sys\n",
    "import glob\n",
    "import serial\n",
    "\n",
    "class SerialPort:\n",
    "    def __init__(self, port):\n",
    "        self.serial_port = serial.Serial(port, 9600, timeout=2)\n",
    "\n",
    "    def send(self, value):\n",
    "        value = value.replace('\\n', '')\n",
    "        value = value.replace('\\r', '')\n",
    "        value = value.encode('utf-8')\n",
    "        self.serial_port.write(value)\n",
    "\n",
    "    def receive(self):\n",
    "        result = ''\n",
    "        value = self.serial_port.readline()\n",
    "        while(len(value) >0):\n",
    "            result += value.decode('ascii')\n",
    "            value = self.serial_port.readline()\n",
    "        return result\n",
    "    \n",
    "    def close(self):\n",
    "        self.serial_port.close()\n",
    "    \n",
    "    @staticmethod\n",
    "    def avaiable():\n",
    "        \"\"\" Lists serial port names\n",
    "    \n",
    "            :raises EnvironmentError:\n",
    "                On unsupported or unknown platforms\n",
    "            :returns:\n",
    "                A list of the serial ports available on the system\n",
    "        \"\"\"\n",
    "        if sys.platform.startswith('win'):\n",
    "            ports = ['COM%s' % (i + 1) for i in range(256)]\n",
    "        elif sys.platform.startswith('linux') or sys.platform.startswith('cygwin'):\n",
    "            # this excludes your current terminal \"/dev/tty\"\n",
    "            ports = glob.glob('/dev/tty*')\n",
    "        elif sys.platform.startswith('darwin'):\n",
    "            ports = glob.glob('/dev/tty.*')\n",
    "        else:\n",
    "            raise EnvironmentError('Unsupported platform')\n",
    "    \n",
    "        result = []\n",
    "        for port in ports:\n",
    "            try:\n",
    "                s = serial.Serial(port)\n",
    "                s.close()\n",
    "                result.append(port)\n",
    "            except (OSError, serial.SerialException):\n",
    "                pass\n",
    "        return result"
   ]
  },
  {
   "cell_type": "code",
   "execution_count": 32,
   "id": "c5f3d51d-e50e-44b3-8b8c-7ab25d7a8300",
   "metadata": {},
   "outputs": [
    {
     "data": {
      "text/html": [
       "<pre style=\"white-space:pre;overflow-x:auto;line-height:normal;font-family:Menlo,'DejaVu Sans Mono',consolas,'Courier New',monospace\"></pre>\n"
      ],
      "text/plain": []
     },
     "metadata": {},
     "output_type": "display_data"
    },
    {
     "data": {
      "text/plain": [
       "\u001b[1m[\u001b[0m\u001b[32m'/dev/ttyACM1'\u001b[0m, \u001b[32m'/dev/ttyS0'\u001b[0m\u001b[1m]\u001b[0m"
      ]
     },
     "execution_count": 32,
     "metadata": {},
     "output_type": "execute_result"
    }
   ],
   "source": [
    "SerialPort.avaiable()"
   ]
  },
  {
   "cell_type": "code",
   "execution_count": 33,
   "id": "51742d05-1f0a-4b8b-94eb-a959391d4626",
   "metadata": {},
   "outputs": [],
   "source": [
    "serial_port = SerialPort(SerialPort.avaiable()[0])"
   ]
  },
  {
   "cell_type": "code",
   "execution_count": 34,
   "id": "bb477a68-ca5f-4e9d-98ed-023f98a7593c",
   "metadata": {},
   "outputs": [],
   "source": [
    "SETTINGS = '''\n",
    "{\n",
    "    \"clutch_smoothing_factor\"  : 0.99,\n",
    "    \"break_smoothing_factor\"   : 0.99,\n",
    "    \"throttle_smoothing_factor\": 0.99\n",
    "}\n",
    "'''\n",
    "\n",
    "serial_port.send(SETTINGS)"
   ]
  },
  {
   "cell_type": "code",
   "execution_count": 35,
   "id": "5907c2f8-786a-44f2-913e-01a96c4e88ea",
   "metadata": {},
   "outputs": [
    {
     "data": {
      "text/html": [
       "<pre style=\"white-space:pre;overflow-x:auto;line-height:normal;font-family:Menlo,'DejaVu Sans Mono',consolas,'Courier New',monospace\">Load json settings\n",
       "Apply settings\n",
       "Set save settings\n",
       "Settings:\n",
       "<span style=\"font-weight: bold\">{</span>\n",
       "  <span style=\"color: #008000; text-decoration-color: #008000\">\"clutch_smoothing_factor\"</span>: <span style=\"color: #008080; text-decoration-color: #008080; font-weight: bold\">0.99</span>,\n",
       "  <span style=\"color: #008000; text-decoration-color: #008000\">\"break_smoothing_factor\"</span>: <span style=\"color: #008080; text-decoration-color: #008080; font-weight: bold\">0.99</span>,\n",
       "  <span style=\"color: #008000; text-decoration-color: #008000\">\"throttle_smoothing_factor\"</span>: <span style=\"color: #008080; text-decoration-color: #008080; font-weight: bold\">0.99</span>\n",
       "<span style=\"font-weight: bold\">}</span>\n",
       "</pre>\n"
      ],
      "text/plain": [
       "Load json settings\n",
       "Apply settings\n",
       "Set save settings\n",
       "Settings:\n",
       "\u001b[1m{\u001b[0m\n",
       "  \u001b[32m\"clutch_smoothing_factor\"\u001b[0m: \u001b[1;36m0.99\u001b[0m,\n",
       "  \u001b[32m\"break_smoothing_factor\"\u001b[0m: \u001b[1;36m0.99\u001b[0m,\n",
       "  \u001b[32m\"throttle_smoothing_factor\"\u001b[0m: \u001b[1;36m0.99\u001b[0m\n",
       "\u001b[1m}\u001b[0m\n"
      ]
     },
     "metadata": {},
     "output_type": "display_data"
    }
   ],
   "source": [
    "print(serial_port.receive())"
   ]
  },
  {
   "cell_type": "code",
   "execution_count": 36,
   "id": "c6dbb87d-fea2-41e9-aec6-5942ee3f7bad",
   "metadata": {},
   "outputs": [],
   "source": [
    "serial_port.send('show')"
   ]
  },
  {
   "cell_type": "code",
   "execution_count": 37,
   "id": "388a09d0-1161-43f1-9e63-059197aede81",
   "metadata": {},
   "outputs": [
    {
     "data": {
      "text/html": [
       "<pre style=\"white-space:pre;overflow-x:auto;line-height:normal;font-family:Menlo,'DejaVu Sans Mono',consolas,'Courier New',monospace\">Settings:\n",
       "<span style=\"font-weight: bold\">{</span>\n",
       "  <span style=\"color: #008000; text-decoration-color: #008000\">\"clutch_smoothing_factor\"</span>: <span style=\"color: #008080; text-decoration-color: #008080; font-weight: bold\">0.99</span>,\n",
       "  <span style=\"color: #008000; text-decoration-color: #008000\">\"break_smoothing_factor\"</span>: <span style=\"color: #008080; text-decoration-color: #008080; font-weight: bold\">0.99</span>,\n",
       "  <span style=\"color: #008000; text-decoration-color: #008000\">\"throttle_smoothing_factor\"</span>: <span style=\"color: #008080; text-decoration-color: #008080; font-weight: bold\">0.99</span>\n",
       "<span style=\"font-weight: bold\">}</span>\n",
       "\n",
       "</pre>\n"
      ],
      "text/plain": [
       "Settings:\n",
       "\u001b[1m{\u001b[0m\n",
       "  \u001b[32m\"clutch_smoothing_factor\"\u001b[0m: \u001b[1;36m0.99\u001b[0m,\n",
       "  \u001b[32m\"break_smoothing_factor\"\u001b[0m: \u001b[1;36m0.99\u001b[0m,\n",
       "  \u001b[32m\"throttle_smoothing_factor\"\u001b[0m: \u001b[1;36m0.99\u001b[0m\n",
       "\u001b[1m}\u001b[0m\n",
       "\n"
      ]
     },
     "metadata": {},
     "output_type": "display_data"
    }
   ],
   "source": [
    "print(serial_port.receive())"
   ]
  },
  {
   "cell_type": "code",
   "execution_count": 24,
   "id": "0a4b0120-cd6f-4557-883c-6ac8e745c3b0",
   "metadata": {},
   "outputs": [],
   "source": [
    "serial_port.close()"
   ]
  }
 ],
 "metadata": {
  "kernelspec": {
   "display_name": "Python 3 (ipykernel)",
   "language": "python",
   "name": "python3"
  },
  "language_info": {
   "codemirror_mode": {
    "name": "ipython",
    "version": 3
   },
   "file_extension": ".py",
   "mimetype": "text/x-python",
   "name": "python",
   "nbconvert_exporter": "python",
   "pygments_lexer": "ipython3",
   "version": "3.12.2"
  }
 },
 "nbformat": 4,
 "nbformat_minor": 5
}
