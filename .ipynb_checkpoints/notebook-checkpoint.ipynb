{
 "cells": [
  {
   "cell_type": "code",
   "execution_count": 11,
   "id": "f55f5dce-4213-4ca3-8898-c57cf7bcccae",
   "metadata": {},
   "outputs": [
    {
     "name": "stdout",
     "output_type": "stream",
     "text": [
      "The autoreload extension is already loaded. To reload it, use:\n",
      "  %reload_ext autoreload\n"
     ]
    }
   ],
   "source": [
    "%load_ext autoreload\n",
    "%autoreload 2"
   ]
  },
  {
   "cell_type": "code",
   "execution_count": 12,
   "id": "41778e97-958e-4b3c-8022-2dd1fb2084d2",
   "metadata": {},
   "outputs": [],
   "source": [
    "LIB_PATH='.'"
   ]
  },
  {
   "cell_type": "code",
   "execution_count": 13,
   "id": "ff491f17-982e-48f9-b20d-1ef1a9c0fb7c",
   "metadata": {},
   "outputs": [],
   "source": [
    "import sys\n",
    "sys.path.append(LIB_PATH)\n",
    "\n",
    "from serial_port import SerialPort"
   ]
  },
  {
   "cell_type": "code",
   "execution_count": 15,
   "id": "c5f3d51d-e50e-44b3-8b8c-7ab25d7a8300",
   "metadata": {},
   "outputs": [
    {
     "data": {
      "text/html": [
       "<pre style=\"white-space:pre;overflow-x:auto;line-height:normal;font-family:Menlo,'DejaVu Sans Mono',consolas,'Courier New',monospace\"></pre>\n"
      ],
      "text/plain": []
     },
     "metadata": {},
     "output_type": "display_data"
    },
    {
     "data": {
      "text/plain": [
       "\u001b[1m[\u001b[0m\u001b[32m'/dev/ttyACM0'\u001b[0m, \u001b[32m'/dev/ttyS0'\u001b[0m\u001b[1m]\u001b[0m"
      ]
     },
     "execution_count": 15,
     "metadata": {},
     "output_type": "execute_result"
    }
   ],
   "source": [
    "SerialPort.avaiable()"
   ]
  },
  {
   "cell_type": "code",
   "execution_count": 16,
   "id": "51742d05-1f0a-4b8b-94eb-a959391d4626",
   "metadata": {},
   "outputs": [],
   "source": [
    "serial_port = SerialPort(SerialPort.avaiable()[0])"
   ]
  },
  {
   "cell_type": "code",
   "execution_count": 17,
   "id": "bb477a68-ca5f-4e9d-98ed-023f98a7593c",
   "metadata": {},
   "outputs": [],
   "source": [
    "SETTINGS = '''\n",
    "{\n",
    "    \"clutch_smoothing_factor\"  : 0.99,\n",
    "    \"break_smoothing_factor\"   : 0.99,\n",
    "    \"throttle_smoothing_factor\": 0.99\n",
    "}\n",
    "'''\n",
    "\n",
    "serial_port.send(SETTINGS)"
   ]
  },
  {
   "cell_type": "code",
   "execution_count": 18,
   "id": "5907c2f8-786a-44f2-913e-01a96c4e88ea",
   "metadata": {},
   "outputs": [
    {
     "data": {
      "text/html": [
       "<pre style=\"white-space:pre;overflow-x:auto;line-height:normal;font-family:Menlo,'DejaVu Sans Mono',consolas,'Courier New',monospace\">Loading json settings<span style=\"color: #808000; text-decoration-color: #808000\">...</span>\n",
       "Appling settings<span style=\"color: #808000; text-decoration-color: #808000\">...</span>\n",
       "Saving settings<span style=\"color: #808000; text-decoration-color: #808000\">...</span>\n",
       "Settings:\n",
       "<span style=\"font-weight: bold\">{</span>\n",
       "  <span style=\"color: #008000; text-decoration-color: #008000\">\"clutch_smoothing_factor\"</span>: <span style=\"color: #008080; text-decoration-color: #008080; font-weight: bold\">0.99</span>,\n",
       "  <span style=\"color: #008000; text-decoration-color: #008000\">\"break_smoothing_factor\"</span>: <span style=\"color: #008080; text-decoration-color: #008080; font-weight: bold\">0.99</span>,\n",
       "  <span style=\"color: #008000; text-decoration-color: #008000\">\"throttle_smoothing_factor\"</span>: <span style=\"color: #008080; text-decoration-color: #008080; font-weight: bold\">0.99</span>\n",
       "<span style=\"font-weight: bold\">}</span>\n",
       "</pre>\n"
      ],
      "text/plain": [
       "Loading json settings\u001b[33m...\u001b[0m\n",
       "Appling settings\u001b[33m...\u001b[0m\n",
       "Saving settings\u001b[33m...\u001b[0m\n",
       "Settings:\n",
       "\u001b[1m{\u001b[0m\n",
       "  \u001b[32m\"clutch_smoothing_factor\"\u001b[0m: \u001b[1;36m0.99\u001b[0m,\n",
       "  \u001b[32m\"break_smoothing_factor\"\u001b[0m: \u001b[1;36m0.99\u001b[0m,\n",
       "  \u001b[32m\"throttle_smoothing_factor\"\u001b[0m: \u001b[1;36m0.99\u001b[0m\n",
       "\u001b[1m}\u001b[0m\n"
      ]
     },
     "metadata": {},
     "output_type": "display_data"
    }
   ],
   "source": [
    "print(serial_port.receive())"
   ]
  },
  {
   "cell_type": "code",
   "execution_count": 19,
   "id": "c6dbb87d-fea2-41e9-aec6-5942ee3f7bad",
   "metadata": {},
   "outputs": [],
   "source": [
    "serial_port.send('show')"
   ]
  },
  {
   "cell_type": "code",
   "execution_count": 20,
   "id": "388a09d0-1161-43f1-9e63-059197aede81",
   "metadata": {},
   "outputs": [
    {
     "data": {
      "text/html": [
       "<pre style=\"white-space:pre;overflow-x:auto;line-height:normal;font-family:Menlo,'DejaVu Sans Mono',consolas,'Courier New',monospace\">Settings:\n",
       "<span style=\"font-weight: bold\">{</span>\n",
       "  <span style=\"color: #008000; text-decoration-color: #008000\">\"clutch_smoothing_factor\"</span>: <span style=\"color: #008080; text-decoration-color: #008080; font-weight: bold\">0.99</span>,\n",
       "  <span style=\"color: #008000; text-decoration-color: #008000\">\"break_smoothing_factor\"</span>: <span style=\"color: #008080; text-decoration-color: #008080; font-weight: bold\">0.99</span>,\n",
       "  <span style=\"color: #008000; text-decoration-color: #008000\">\"throttle_smoothing_factor\"</span>: <span style=\"color: #008080; text-decoration-color: #008080; font-weight: bold\">0.99</span>\n",
       "<span style=\"font-weight: bold\">}</span>\n",
       "\n",
       "</pre>\n"
      ],
      "text/plain": [
       "Settings:\n",
       "\u001b[1m{\u001b[0m\n",
       "  \u001b[32m\"clutch_smoothing_factor\"\u001b[0m: \u001b[1;36m0.99\u001b[0m,\n",
       "  \u001b[32m\"break_smoothing_factor\"\u001b[0m: \u001b[1;36m0.99\u001b[0m,\n",
       "  \u001b[32m\"throttle_smoothing_factor\"\u001b[0m: \u001b[1;36m0.99\u001b[0m\n",
       "\u001b[1m}\u001b[0m\n",
       "\n"
      ]
     },
     "metadata": {},
     "output_type": "display_data"
    }
   ],
   "source": [
    "print(serial_port.receive())"
   ]
  },
  {
   "cell_type": "code",
   "execution_count": 21,
   "id": "0a4b0120-cd6f-4557-883c-6ac8e745c3b0",
   "metadata": {},
   "outputs": [],
   "source": [
    "serial_port.close()"
   ]
  },
  {
   "cell_type": "code",
   "execution_count": null,
   "id": "76e061b6-4835-474b-9959-07dd814c98e3",
   "metadata": {},
   "outputs": [],
   "source": []
  }
 ],
 "metadata": {
  "kernelspec": {
   "display_name": "Python 3 (ipykernel)",
   "language": "python",
   "name": "python3"
  },
  "language_info": {
   "codemirror_mode": {
    "name": "ipython",
    "version": 3
   },
   "file_extension": ".py",
   "mimetype": "text/x-python",
   "name": "python",
   "nbconvert_exporter": "python",
   "pygments_lexer": "ipython3",
   "version": "3.12.2"
  }
 },
 "nbformat": 4,
 "nbformat_minor": 5
}
