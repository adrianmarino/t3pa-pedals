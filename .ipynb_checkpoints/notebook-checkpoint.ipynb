{
 "cells": [
  {
   "cell_type": "markdown",
   "id": "06f51873-f713-44be-b327-0253f7017d11",
   "metadata": {},
   "source": [
    "https://www.youtube.com/watch?v=qWESWDKYWFU"
   ]
  },
  {
   "cell_type": "code",
   "execution_count": null,
   "id": "ed84a3c6-c78a-4f88-9dd5-20826259235f",
   "metadata": {},
   "outputs": [],
   "source": [
    "static StaticJsonDocument<256> config;\n",
    "\n",
    "void setup() {\n",
    "  Serial.begin(9600);\n",
    "}\n",
    "\n",
    "void updateConfig() {\n",
    "  if (Serial.available() > 0) {\n",
    "    String value = Serial.readString();\n",
    "      Serial.println(value.c_str());\n",
    "    if (value == \"show\") {\n",
    "      serializeJsonPretty(config, Serial);\n",
    "      Serial.println();\n",
    "    } else{\n",
    "      const auto deser_err = deserializeJson(config, Serial);\n",
    " \n",
    "      if (!deser_err) {\n",
    "        float clutchFactor   = config[\"clutch_smoothing_factor\"].as<float>();\n",
    "        float breakFactor    = config[\"break_smoothing_factor\"].as<float>();\n",
    "        float throttleFactor = config[\"throttle_smoothing_factor\"].as<float>();\n",
    "\n",
    "        clutchFilter   = new Ewma(clutchFactor);\n",
    "        breakFilter    = new Ewma(breakFactor);\n",
    "        throttleFilter = new Ewma(throttleFactor);\n",
    "      }\n",
    "    }\n",
    "  }\n",
    "}"
   ]
  },
  {
   "cell_type": "code",
   "execution_count": 1,
   "id": "ea5ae80b-3247-4474-9f15-8b4acb674fb7",
   "metadata": {},
   "outputs": [],
   "source": [
    "import serial"
   ]
  },
  {
   "cell_type": "code",
   "execution_count": 60,
   "id": "ff491f17-982e-48f9-b20d-1ef1a9c0fb7c",
   "metadata": {},
   "outputs": [],
   "source": [
    "import sys\n",
    "import glob\n",
    "import serial\n",
    "\n",
    "class SerialPort:\n",
    "    def __init__(self, port):\n",
    "        self.serial_port = serial.Serial(port, 9600, timeout=2)\n",
    "\n",
    "\n",
    "    def send(self, value):\n",
    "        self.serial_port.write(value)\n",
    "\n",
    "    def receive(self):\n",
    "        result = ''\n",
    "        value = self.serial_port.readline()\n",
    "        while(len(value) >0):\n",
    "            result += value.decode('ascii')\n",
    "            value = self.serial_port.readline()\n",
    "        return result\n",
    "    \n",
    "    def close(self):\n",
    "        self.serial_port.close()\n",
    "    \n",
    "    @staticmethod\n",
    "    def avaiable():\n",
    "        \"\"\" Lists serial port names\n",
    "    \n",
    "            :raises EnvironmentError:\n",
    "                On unsupported or unknown platforms\n",
    "            :returns:\n",
    "                A list of the serial ports available on the system\n",
    "        \"\"\"\n",
    "        if sys.platform.startswith('win'):\n",
    "            ports = ['COM%s' % (i + 1) for i in range(256)]\n",
    "        elif sys.platform.startswith('linux') or sys.platform.startswith('cygwin'):\n",
    "            # this excludes your current terminal \"/dev/tty\"\n",
    "            ports = glob.glob('/dev/tty*')\n",
    "        elif sys.platform.startswith('darwin'):\n",
    "            ports = glob.glob('/dev/tty.*')\n",
    "        else:\n",
    "            raise EnvironmentError('Unsupported platform')\n",
    "    \n",
    "        result = []\n",
    "        for port in ports:\n",
    "            try:\n",
    "                s = serial.Serial(port)\n",
    "                s.close()\n",
    "                result.append(port)\n",
    "            except (OSError, serial.SerialException):\n",
    "                pass\n",
    "        return result"
   ]
  },
  {
   "cell_type": "code",
   "execution_count": 61,
   "id": "c5f3d51d-e50e-44b3-8b8c-7ab25d7a8300",
   "metadata": {},
   "outputs": [
    {
     "data": {
      "text/html": [
       "<pre style=\"white-space:pre;overflow-x:auto;line-height:normal;font-family:Menlo,'DejaVu Sans Mono',consolas,'Courier New',monospace\"></pre>\n"
      ],
      "text/plain": []
     },
     "metadata": {},
     "output_type": "display_data"
    },
    {
     "data": {
      "text/plain": [
       "\u001b[1m[\u001b[0m\u001b[32m'/dev/ttyACM0'\u001b[0m, \u001b[32m'/dev/ttyS0'\u001b[0m\u001b[1m]\u001b[0m"
      ]
     },
     "execution_count": 61,
     "metadata": {},
     "output_type": "execute_result"
    }
   ],
   "source": [
    "SerialPort.avaiable()"
   ]
  },
  {
   "cell_type": "code",
   "execution_count": 62,
   "id": "e96aca4d-aa46-458f-9e6d-f5a0b3766586",
   "metadata": {},
   "outputs": [],
   "source": [
    "serial_port = SerialPort(SerialPort.avaiable()[0])"
   ]
  },
  {
   "cell_type": "code",
   "execution_count": 63,
   "id": "bb477a68-ca5f-4e9d-98ed-023f98a7593c",
   "metadata": {},
   "outputs": [],
   "source": [
    "serial_port.send(b'''\n",
    "{\n",
    "    \"clutch_smoothing_factor\": 0.9,\n",
    "    \"break_smoothing_factor\": 0.9,\n",
    "    \"throttle_smoothing_factor\": 0.9\n",
    "}\n",
    "''')"
   ]
  },
  {
   "cell_type": "code",
   "execution_count": 64,
   "id": "97447328-a972-4c8b-829b-bcc8dad8cb63",
   "metadata": {},
   "outputs": [],
   "source": [
    "serial_port.send(b'show')"
   ]
  },
  {
   "cell_type": "code",
   "execution_count": 65,
   "id": "eb315173-bc48-4609-95ba-fce5912f5dd1",
   "metadata": {},
   "outputs": [
    {
     "data": {
      "text/html": [
       "<pre style=\"white-space:pre;overflow-x:auto;line-height:normal;font-family:Menlo,'DejaVu Sans Mono',consolas,'Courier New',monospace\">null\n",
       "\n",
       "</pre>\n"
      ],
      "text/plain": [
       "null\n",
       "\n"
      ]
     },
     "metadata": {},
     "output_type": "display_data"
    }
   ],
   "source": [
    "print(serial_port.receive())"
   ]
  },
  {
   "cell_type": "code",
   "execution_count": 59,
   "id": "2f90644a-8a9a-49a5-87d6-927c4bb4da9a",
   "metadata": {},
   "outputs": [],
   "source": [
    "serial_port.close()"
   ]
  },
  {
   "cell_type": "code",
   "execution_count": null,
   "id": "23c35d5a-6de8-42b3-83a2-2bc0685bf188",
   "metadata": {},
   "outputs": [],
   "source": []
  }
 ],
 "metadata": {
  "kernelspec": {
   "display_name": "Python 3 (ipykernel)",
   "language": "python",
   "name": "python3"
  },
  "language_info": {
   "codemirror_mode": {
    "name": "ipython",
    "version": 3
   },
   "file_extension": ".py",
   "mimetype": "text/x-python",
   "name": "python",
   "nbconvert_exporter": "python",
   "pygments_lexer": "ipython3",
   "version": "3.12.2"
  }
 },
 "nbformat": 4,
 "nbformat_minor": 5
}
